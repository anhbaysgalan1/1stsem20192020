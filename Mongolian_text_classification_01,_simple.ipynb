{
  "nbformat": 4,
  "nbformat_minor": 0,
  "metadata": {
    "colab": {
      "name": "Mongolian text classification #01, simple.ipynb",
      "provenance": [],
      "collapsed_sections": [],
      "include_colab_link": true
    },
    "kernelspec": {
      "name": "python3",
      "display_name": "Python 3"
    },
    "accelerator": "GPU"
  },
  "cells": [
    {
      "cell_type": "markdown",
      "metadata": {
        "id": "view-in-github",
        "colab_type": "text"
      },
      "source": [
        "<a href=\"https://colab.research.google.com/github/anhbaysgalan1/1stsem20192020/blob/master/Mongolian_text_classification_01%2C_simple.ipynb\" target=\"_parent\"><img src=\"https://colab.research.google.com/assets/colab-badge.svg\" alt=\"Open In Colab\"/></a>"
      ]
    },
    {
      "cell_type": "markdown",
      "metadata": {
        "id": "muNP8k9fqaJb",
        "colab_type": "text"
      },
      "source": [
        "Mongolian text classification series #01\n",
        "\n",
        "In this notebook I'm gonna try to classify cyrillic mongolian texts using modern Tensorflow 2.0\n",
        "\n",
        "Eduge dataset provided by Bolorsoft LLC\n",
        "\n",
        "Author : Sharavsambuu Gunchinish (sharavsambuu@gmail.com)\n",
        "\n",
        "Github: https://github.com/sharavsambuu/mongolian-text-classification \n",
        "\n"
      ]
    },
    {
      "cell_type": "code",
      "metadata": {
        "id": "iY9jwdg6qT8M",
        "colab_type": "code",
        "outputId": "934d479f-d535-4ce8-b89c-7e228383f403",
        "colab": {
          "base_uri": "https://localhost:8080/",
          "height": 581
        }
      },
      "source": [
        "from __future__ import absolute_import, division, print_function, unicode_literals\n",
        "\n",
        "!pip install tensorflow==2.0.0-beta1 \n",
        "import tensorflow as tf\n",
        "from tensorflow import keras\n",
        "\n",
        "import numpy as np\n",
        "\n",
        "print(tf.__version__)"
      ],
      "execution_count": 0,
      "outputs": [
        {
          "output_type": "stream",
          "text": [
            "Collecting tensorflow==2.0.0-beta1\n",
            "\u001b[?25l  Downloading https://files.pythonhosted.org/packages/29/6c/2c9a5c4d095c63c2fb37d20def0e4f92685f7aee9243d6aae25862694fd1/tensorflow-2.0.0b1-cp36-cp36m-manylinux1_x86_64.whl (87.9MB)\n",
            "\u001b[K     |████████████████████████████████| 87.9MB 1.2MB/s \n",
            "\u001b[?25hRequirement already satisfied: gast>=0.2.0 in /usr/local/lib/python3.6/dist-packages (from tensorflow==2.0.0-beta1) (0.2.2)\n",
            "Requirement already satisfied: google-pasta>=0.1.6 in /usr/local/lib/python3.6/dist-packages (from tensorflow==2.0.0-beta1) (0.1.7)\n",
            "Requirement already satisfied: protobuf>=3.6.1 in /usr/local/lib/python3.6/dist-packages (from tensorflow==2.0.0-beta1) (3.7.1)\n",
            "Collecting tb-nightly<1.14.0a20190604,>=1.14.0a20190603 (from tensorflow==2.0.0-beta1)\n",
            "\u001b[?25l  Downloading https://files.pythonhosted.org/packages/a4/96/571b875cd81dda9d5dfa1422a4f9d749e67c0a8d4f4f0b33a4e5f5f35e27/tb_nightly-1.14.0a20190603-py3-none-any.whl (3.1MB)\n",
            "\u001b[K     |████████████████████████████████| 3.1MB 32.9MB/s \n",
            "\u001b[?25hRequirement already satisfied: grpcio>=1.8.6 in /usr/local/lib/python3.6/dist-packages (from tensorflow==2.0.0-beta1) (1.15.0)\n",
            "Requirement already satisfied: six>=1.10.0 in /usr/local/lib/python3.6/dist-packages (from tensorflow==2.0.0-beta1) (1.12.0)\n",
            "Requirement already satisfied: wheel>=0.26 in /usr/local/lib/python3.6/dist-packages (from tensorflow==2.0.0-beta1) (0.33.4)\n",
            "Requirement already satisfied: absl-py>=0.7.0 in /usr/local/lib/python3.6/dist-packages (from tensorflow==2.0.0-beta1) (0.7.1)\n",
            "Collecting tf-estimator-nightly<1.14.0.dev2019060502,>=1.14.0.dev2019060501 (from tensorflow==2.0.0-beta1)\n",
            "\u001b[?25l  Downloading https://files.pythonhosted.org/packages/32/dd/99c47dd007dcf10d63fd895611b063732646f23059c618a373e85019eb0e/tf_estimator_nightly-1.14.0.dev2019060501-py2.py3-none-any.whl (496kB)\n",
            "\u001b[K     |████████████████████████████████| 501kB 52.9MB/s \n",
            "\u001b[?25hRequirement already satisfied: termcolor>=1.1.0 in /usr/local/lib/python3.6/dist-packages (from tensorflow==2.0.0-beta1) (1.1.0)\n",
            "Requirement already satisfied: keras-applications>=1.0.6 in /usr/local/lib/python3.6/dist-packages (from tensorflow==2.0.0-beta1) (1.0.8)\n",
            "Requirement already satisfied: astor>=0.6.0 in /usr/local/lib/python3.6/dist-packages (from tensorflow==2.0.0-beta1) (0.8.0)\n",
            "Requirement already satisfied: wrapt>=1.11.1 in /usr/local/lib/python3.6/dist-packages (from tensorflow==2.0.0-beta1) (1.11.1)\n",
            "Requirement already satisfied: numpy<2.0,>=1.14.5 in /usr/local/lib/python3.6/dist-packages (from tensorflow==2.0.0-beta1) (1.16.4)\n",
            "Requirement already satisfied: keras-preprocessing>=1.0.5 in /usr/local/lib/python3.6/dist-packages (from tensorflow==2.0.0-beta1) (1.1.0)\n",
            "Requirement already satisfied: setuptools in /usr/local/lib/python3.6/dist-packages (from protobuf>=3.6.1->tensorflow==2.0.0-beta1) (41.0.1)\n",
            "Requirement already satisfied: markdown>=2.6.8 in /usr/local/lib/python3.6/dist-packages (from tb-nightly<1.14.0a20190604,>=1.14.0a20190603->tensorflow==2.0.0-beta1) (3.1.1)\n",
            "Requirement already satisfied: werkzeug>=0.11.15 in /usr/local/lib/python3.6/dist-packages (from tb-nightly<1.14.0a20190604,>=1.14.0a20190603->tensorflow==2.0.0-beta1) (0.15.4)\n",
            "Requirement already satisfied: h5py in /usr/local/lib/python3.6/dist-packages (from keras-applications>=1.0.6->tensorflow==2.0.0-beta1) (2.8.0)\n",
            "Installing collected packages: tb-nightly, tf-estimator-nightly, tensorflow\n",
            "  Found existing installation: tensorflow 1.14.0rc1\n",
            "    Uninstalling tensorflow-1.14.0rc1:\n",
            "      Successfully uninstalled tensorflow-1.14.0rc1\n",
            "Successfully installed tb-nightly-1.14.0a20190603 tensorflow-2.0.0b1 tf-estimator-nightly-1.14.0.dev2019060501\n",
            "2.0.0-beta1\n"
          ],
          "name": "stdout"
        }
      ]
    },
    {
      "cell_type": "markdown",
      "metadata": {
        "id": "smJeJfoo4qcu",
        "colab_type": "text"
      },
      "source": [
        "[More info about creation of eduge dataset pickles](https://github.com/sharavsambuu/mongolian-text-classification/blob/master/preprocess_dataset/preprocess_eduge.ipynb) "
      ]
    },
    {
      "cell_type": "code",
      "metadata": {
        "id": "CDayX_Yx3REh",
        "colab_type": "code",
        "outputId": "a2f9d68c-2493-439f-b94c-21d54af941ac",
        "colab": {
          "base_uri": "https://localhost:8080/",
          "height": 272
        }
      },
      "source": [
        "import os\n",
        "from os.path import exists, join, basename, splitext\n",
        "import sys\n",
        "\n",
        "def download_from_google_drive(file_id, file_name):\n",
        "  !rm -f ./cookie\n",
        "  !curl -c ./cookie -s -L \"https://drive.google.com/uc?export=download&id=$file_id\" > /dev/null\n",
        "  confirm_text = !awk '/download/ {print $NF}' ./cookie\n",
        "  confirm_text = confirm_text[0]\n",
        "  !curl -Lb ./cookie \"https://drive.google.com/uc?export=download&confirm=$confirm_text&id=$file_id\" -o $file_name\n",
        "  \n",
        "# download eduge pickles\n",
        "file_path = 'eduge_pickles'\n",
        "if not exists(file_path):\n",
        "  download_from_google_drive('1vjJ9YgIe8o0ErhbN0lH1XqPv3KFP8acv', '%s.rar' % file_path)\n",
        "  rar_file = file_path+\".rar\"\n",
        "  !unrar x $rar_file"
      ],
      "execution_count": 0,
      "outputs": [
        {
          "output_type": "stream",
          "text": [
            "  % Total    % Received % Xferd  Average Speed   Time    Time     Time  Current\n",
            "                                 Dload  Upload   Total   Spent    Left  Speed\n",
            "100   388    0   388    0     0   4619      0 --:--:-- --:--:-- --:--:--  4619\n",
            "100  106M    0  106M    0     0  47.5M      0 --:--:--  0:00:02 --:--:-- 58.9M\n",
            "\n",
            "UNRAR 5.50 freeware      Copyright (c) 1993-2017 Alexander Roshal\n",
            "\n",
            "\n",
            "Extracting from eduge_pickles.rar\n",
            "\n",
            "Extracting  word_index.pickle                                            \b\b\b\b  2%\b\b\b\b\b  OK \n",
            "Extracting  eduge.pickle                                                 \b\b\b\b  6%\b\b\b\b 10%\b\b\b\b 14%\b\b\b\b 17%\b\b\b\b 21%\b\b\b\b 25%\b\b\b\b 29%\b\b\b\b 32%\b\b\b\b 36%\b\b\b\b 40%\b\b\b\b 44%\b\b\b\b 47%\b\b\b\b 51%\b\b\b\b\b  OK \n",
            "Extracting  eduge_stopwords_removed.pickle                               \b\b\b\b 55%\b\b\b\b 58%\b\b\b\b 62%\b\b\b\b 66%\b\b\b\b 70%\b\b\b\b 73%\b\b\b\b 77%\b\b\b\b 81%\b\b\b\b 85%\b\b\b\b 88%\b\b\b\b 92%\b\b\b\b 96%\b\b\b\b 97%\b\b\b\b\b  OK \n",
            "Extracting  reversed_word_index.pickle                                   \b\b\b\b 99%\b\b\b\b\b  OK \n",
            "All OK\n"
          ],
          "name": "stdout"
        }
      ]
    },
    {
      "cell_type": "code",
      "metadata": {
        "id": "pPHJcnfi4Rzg",
        "colab_type": "code",
        "colab": {}
      },
      "source": [
        "import pickle\n",
        "\n",
        "with open('word_index.pickle', 'rb') as handle:\n",
        "  word_index = pickle.load(handle)\n",
        "    \n",
        "with open('reversed_word_index.pickle', 'rb') as handle:\n",
        "  reversed_word_index = pickle.load(handle)\n",
        "  \n",
        "with open('eduge_stopwords_removed.pickle', 'rb') as handle:\n",
        "  eduge_ds_raw = pickle.load(handle)"
      ],
      "execution_count": 0,
      "outputs": []
    },
    {
      "cell_type": "code",
      "metadata": {
        "id": "XFxd1QGR65VV",
        "colab_type": "code",
        "colab": {}
      },
      "source": [
        "#MAX_LEN = 512\n",
        "#import itertools\n",
        "#for item in eduge_ds:\n",
        "#  item[0] = list(itertools.chain(*item[0]))[:MAX_LEN]\n",
        "\n",
        "MAX_LEN = 512\n",
        "\n",
        "import itertools\n",
        "from sklearn.preprocessing import LabelBinarizer\n",
        "\n",
        "encoder = LabelBinarizer()\n",
        "labels_list = [l[1] for l in eduge_ds_raw] # collecting labels\n",
        "onehots = encoder.fit_transform(labels_list)\n",
        "\n",
        "eduge_ds = []\n",
        "for idx, item in enumerate(eduge_ds_raw):\n",
        "  sentence = list(itertools.chain(*item[0]))[:MAX_LEN]\n",
        "  eduge_ds.append((sentence, onehots[idx], item[1]))"
      ],
      "execution_count": 0,
      "outputs": []
    },
    {
      "cell_type": "code",
      "metadata": {
        "id": "YByvIJ9xZG9k",
        "colab_type": "code",
        "outputId": "877d1d05-ae97-466a-e702-4014f4f4925d",
        "colab": {
          "base_uri": "https://localhost:8080/",
          "height": 85
        }
      },
      "source": [
        "print(eduge_ds[0][2])\n",
        "print(eduge_ds[0][1])\n",
        "print(encoder.classes_)"
      ],
      "execution_count": 0,
      "outputs": [
        {
          "output_type": "stream",
          "text": [
            "урлаг соёл\n",
            "[0 0 0 0 0 1 0 0 0]\n",
            "['байгал орчин' 'боловсрол' 'спорт' 'технологи' 'улс төр' 'урлаг соёл'\n",
            " 'хууль' 'эдийн засаг' 'эрүүл мэнд']\n"
          ],
          "name": "stdout"
        }
      ]
    },
    {
      "cell_type": "code",
      "metadata": {
        "id": "U8PTeX0WCbhR",
        "colab_type": "code",
        "colab": {}
      },
      "source": [
        "from sklearn.model_selection import train_test_split\n",
        "train, test = train_test_split(eduge_ds, test_size=0.1, random_state=999)"
      ],
      "execution_count": 0,
      "outputs": []
    },
    {
      "cell_type": "code",
      "metadata": {
        "id": "8mgMCFcgDHH4",
        "colab_type": "code",
        "colab": {}
      },
      "source": [
        "train_data_words    = [i[0] for i in train]\n",
        "train_label_onehots = [i[1] for i in train]\n",
        "\n",
        "test_data_words     = [i[0] for i in test ]\n",
        "test_label_onehots  = [i[1] for i in test ]"
      ],
      "execution_count": 0,
      "outputs": []
    },
    {
      "cell_type": "code",
      "metadata": {
        "id": "rrXC7UiuFkCH",
        "colab_type": "code",
        "colab": {}
      },
      "source": [
        "def encode_news(text):\n",
        "    return [word_index.get(i, 2) for i in text]\n",
        "  \n",
        "train_data = [encode_news(sent) for sent in train_data_words]\n",
        "test_data  = [encode_news(sent) for sent in test_data_words ]"
      ],
      "execution_count": 0,
      "outputs": []
    },
    {
      "cell_type": "code",
      "metadata": {
        "id": "FV-h_avPEzM1",
        "colab_type": "code",
        "colab": {}
      },
      "source": [
        "train_data = keras.preprocessing.sequence.pad_sequences(train_data,\n",
        "                                                        value=word_index[\"<PAD>\"],\n",
        "                                                        padding='post',\n",
        "                                                        maxlen=MAX_LEN)\n",
        "\n",
        "test_data = keras.preprocessing.sequence.pad_sequences(test_data,\n",
        "                                                       value=word_index[\"<PAD>\"],\n",
        "                                                       padding='post',\n",
        "                                                       maxlen=MAX_LEN)"
      ],
      "execution_count": 0,
      "outputs": []
    },
    {
      "cell_type": "code",
      "metadata": {
        "id": "gDVqmPqxIMid",
        "colab_type": "code",
        "outputId": "52c45874-7386-440a-e1a6-7a28536a9806",
        "colab": {
          "base_uri": "https://localhost:8080/",
          "height": 68
        }
      },
      "source": [
        "train_label_onehots[:3]"
      ],
      "execution_count": 0,
      "outputs": [
        {
          "output_type": "execute_result",
          "data": {
            "text/plain": [
              "[array([0, 0, 0, 1, 0, 0, 0, 0, 0]),\n",
              " array([0, 0, 0, 0, 1, 0, 0, 0, 0]),\n",
              " array([0, 1, 0, 0, 0, 0, 0, 0, 0])]"
            ]
          },
          "metadata": {
            "tags": []
          },
          "execution_count": 13
        }
      ]
    },
    {
      "cell_type": "code",
      "metadata": {
        "id": "DPq45PN5HZ15",
        "colab_type": "code",
        "outputId": "ff7c9ffd-f3f6-4dcf-85d8-a4c7153b4d91",
        "colab": {
          "base_uri": "https://localhost:8080/",
          "height": 289
        }
      },
      "source": [
        "vocab_size = len(word_index)\n",
        "\n",
        "model = keras.Sequential()\n",
        "model.add(keras.layers.Embedding(vocab_size, 16))\n",
        "model.add(keras.layers.GlobalAveragePooling1D())\n",
        "model.add(keras.layers.Dense(16, activation='relu'))\n",
        "model.add(keras.layers.Dense(len(encoder.classes_), activation='sigmoid'))\n",
        "\n",
        "model.summary()"
      ],
      "execution_count": 0,
      "outputs": [
        {
          "output_type": "stream",
          "text": [
            "Model: \"sequential\"\n",
            "_________________________________________________________________\n",
            "Layer (type)                 Output Shape              Param #   \n",
            "=================================================================\n",
            "embedding (Embedding)        (None, None, 16)          5932704   \n",
            "_________________________________________________________________\n",
            "global_average_pooling1d (Gl (None, 16)                0         \n",
            "_________________________________________________________________\n",
            "dense (Dense)                (None, 16)                272       \n",
            "_________________________________________________________________\n",
            "dense_1 (Dense)              (None, 9)                 153       \n",
            "=================================================================\n",
            "Total params: 5,933,129\n",
            "Trainable params: 5,933,129\n",
            "Non-trainable params: 0\n",
            "_________________________________________________________________\n"
          ],
          "name": "stdout"
        }
      ]
    },
    {
      "cell_type": "code",
      "metadata": {
        "id": "cAgP1KlqHu2F",
        "colab_type": "code",
        "colab": {}
      },
      "source": [
        "model.compile(optimizer='adam',\n",
        "              loss='categorical_crossentropy',\n",
        "              metrics=['accuracy'])"
      ],
      "execution_count": 0,
      "outputs": []
    },
    {
      "cell_type": "code",
      "metadata": {
        "id": "ZPw8roFQKrHm",
        "colab_type": "code",
        "colab": {}
      },
      "source": [
        "partial_index   = 3000\n",
        "\n",
        "partial_x_train = train_data[partial_index:]\n",
        "partial_y_train = np.array([np.array(l) for l in train_label_onehots[partial_index:]])\n",
        "\n",
        "x_val           = train_data[:partial_index]\n",
        "y_val           = np.array([np.array(l) for l in train_label_onehots[:partial_index]])\n"
      ],
      "execution_count": 0,
      "outputs": []
    },
    {
      "cell_type": "code",
      "metadata": {
        "id": "iSTB4--RKacs",
        "colab_type": "code",
        "outputId": "8748ae5a-38cb-4809-9955-88c2ff2d0e44",
        "colab": {
          "base_uri": "https://localhost:8080/",
          "height": 1142
        }
      },
      "source": [
        "epochs = 30\n",
        "history = model.fit(partial_x_train,\n",
        "                    partial_y_train,\n",
        "                    epochs=epochs,\n",
        "                    batch_size=512,\n",
        "                    validation_data=(x_val, y_val),\n",
        "                    verbose=1)"
      ],
      "execution_count": 0,
      "outputs": [
        {
          "output_type": "stream",
          "text": [
            "WARNING: Logging before flag parsing goes to stderr.\n",
            "W0618 16:26:34.552035 140085617461120 deprecation.py:323] From /usr/local/lib/python3.6/dist-packages/tensorflow/python/ops/math_grad.py:1250: add_dispatch_support.<locals>.wrapper (from tensorflow.python.ops.array_ops) is deprecated and will be removed in a future version.\n",
            "Instructions for updating:\n",
            "Use tf.where in 2.0, which has the same broadcast rule as np.where\n"
          ],
          "name": "stderr"
        },
        {
          "output_type": "stream",
          "text": [
            "Train on 65094 samples, validate on 3000 samples\n",
            "Epoch 1/30\n",
            "65094/65094 [==============================] - 14s 210us/sample - loss: 2.1482 - accuracy: 0.1817 - val_loss: 2.0865 - val_accuracy: 0.2047\n",
            "Epoch 2/30\n",
            "65094/65094 [==============================] - 13s 205us/sample - loss: 1.9897 - accuracy: 0.3142 - val_loss: 1.8662 - val_accuracy: 0.3443\n",
            "Epoch 3/30\n",
            "65094/65094 [==============================] - 13s 207us/sample - loss: 1.6907 - accuracy: 0.4206 - val_loss: 1.5172 - val_accuracy: 0.4797\n",
            "Epoch 4/30\n",
            "65094/65094 [==============================] - 13s 205us/sample - loss: 1.3200 - accuracy: 0.5658 - val_loss: 1.1784 - val_accuracy: 0.6413\n",
            "Epoch 5/30\n",
            "65094/65094 [==============================] - 13s 205us/sample - loss: 1.0342 - accuracy: 0.7035 - val_loss: 0.9725 - val_accuracy: 0.7313\n",
            "Epoch 6/30\n",
            "65094/65094 [==============================] - 13s 205us/sample - loss: 0.8617 - accuracy: 0.7700 - val_loss: 0.8508 - val_accuracy: 0.7840\n",
            "Epoch 7/30\n",
            "65094/65094 [==============================] - 13s 207us/sample - loss: 0.7476 - accuracy: 0.8175 - val_loss: 0.7631 - val_accuracy: 0.8090\n",
            "Epoch 8/30\n",
            "65094/65094 [==============================] - 14s 209us/sample - loss: 0.6597 - accuracy: 0.8442 - val_loss: 0.6953 - val_accuracy: 0.8267\n",
            "Epoch 9/30\n",
            "65094/65094 [==============================] - 14s 209us/sample - loss: 0.5898 - accuracy: 0.8602 - val_loss: 0.6430 - val_accuracy: 0.8353\n",
            "Epoch 10/30\n",
            "65094/65094 [==============================] - 14s 208us/sample - loss: 0.5350 - accuracy: 0.8717 - val_loss: 0.6039 - val_accuracy: 0.8453\n",
            "Epoch 11/30\n",
            "65094/65094 [==============================] - 14s 208us/sample - loss: 0.4906 - accuracy: 0.8816 - val_loss: 0.5745 - val_accuracy: 0.8487\n",
            "Epoch 12/30\n",
            "65094/65094 [==============================] - 14s 208us/sample - loss: 0.4543 - accuracy: 0.8891 - val_loss: 0.5508 - val_accuracy: 0.8543\n",
            "Epoch 13/30\n",
            "65094/65094 [==============================] - 14s 208us/sample - loss: 0.4234 - accuracy: 0.8970 - val_loss: 0.5315 - val_accuracy: 0.8583\n",
            "Epoch 14/30\n",
            "65094/65094 [==============================] - 14s 209us/sample - loss: 0.3963 - accuracy: 0.9031 - val_loss: 0.5171 - val_accuracy: 0.8667\n",
            "Epoch 15/30\n",
            "65094/65094 [==============================] - 14s 209us/sample - loss: 0.3721 - accuracy: 0.9091 - val_loss: 0.5018 - val_accuracy: 0.8657\n",
            "Epoch 16/30\n",
            "65094/65094 [==============================] - 14s 208us/sample - loss: 0.3507 - accuracy: 0.9137 - val_loss: 0.4903 - val_accuracy: 0.8683\n",
            "Epoch 17/30\n",
            "65094/65094 [==============================] - 13s 207us/sample - loss: 0.3304 - accuracy: 0.9189 - val_loss: 0.4800 - val_accuracy: 0.8700\n",
            "Epoch 18/30\n",
            "65094/65094 [==============================] - 13s 206us/sample - loss: 0.3120 - accuracy: 0.9225 - val_loss: 0.4723 - val_accuracy: 0.8723\n",
            "Epoch 19/30\n",
            "65094/65094 [==============================] - 13s 205us/sample - loss: 0.2950 - accuracy: 0.9274 - val_loss: 0.4639 - val_accuracy: 0.8753\n",
            "Epoch 20/30\n",
            "65094/65094 [==============================] - 13s 205us/sample - loss: 0.2791 - accuracy: 0.9317 - val_loss: 0.4579 - val_accuracy: 0.8773\n",
            "Epoch 21/30\n",
            "65094/65094 [==============================] - 14s 208us/sample - loss: 0.2645 - accuracy: 0.9349 - val_loss: 0.4523 - val_accuracy: 0.8780\n",
            "Epoch 22/30\n",
            "65094/65094 [==============================] - 13s 205us/sample - loss: 0.2509 - accuracy: 0.9385 - val_loss: 0.4478 - val_accuracy: 0.8800\n",
            "Epoch 23/30\n",
            "65094/65094 [==============================] - 13s 204us/sample - loss: 0.2383 - accuracy: 0.9421 - val_loss: 0.4443 - val_accuracy: 0.8800\n",
            "Epoch 24/30\n",
            "65094/65094 [==============================] - 13s 204us/sample - loss: 0.2266 - accuracy: 0.9446 - val_loss: 0.4403 - val_accuracy: 0.8817\n",
            "Epoch 25/30\n",
            "65094/65094 [==============================] - 13s 204us/sample - loss: 0.2158 - accuracy: 0.9476 - val_loss: 0.4389 - val_accuracy: 0.8817\n",
            "Epoch 26/30\n",
            "65094/65094 [==============================] - 13s 204us/sample - loss: 0.2053 - accuracy: 0.9502 - val_loss: 0.4365 - val_accuracy: 0.8823\n",
            "Epoch 27/30\n",
            "65094/65094 [==============================] - 13s 206us/sample - loss: 0.1956 - accuracy: 0.9520 - val_loss: 0.4350 - val_accuracy: 0.8823\n",
            "Epoch 28/30\n",
            "65094/65094 [==============================] - 13s 204us/sample - loss: 0.1862 - accuracy: 0.9543 - val_loss: 0.4343 - val_accuracy: 0.8807\n",
            "Epoch 29/30\n",
            "65094/65094 [==============================] - 13s 204us/sample - loss: 0.1775 - accuracy: 0.9571 - val_loss: 0.4339 - val_accuracy: 0.8817\n",
            "Epoch 30/30\n",
            "65094/65094 [==============================] - 13s 205us/sample - loss: 0.1691 - accuracy: 0.9592 - val_loss: 0.4377 - val_accuracy: 0.8807\n"
          ],
          "name": "stdout"
        }
      ]
    },
    {
      "cell_type": "code",
      "metadata": {
        "id": "5jCp7PxscEE_",
        "colab_type": "code",
        "colab": {}
      },
      "source": [
        "test_label_onehots = np.array([np.array(l) for l in test_label_onehots])"
      ],
      "execution_count": 0,
      "outputs": []
    },
    {
      "cell_type": "code",
      "metadata": {
        "id": "r8_mvDjYL3CX",
        "colab_type": "code",
        "outputId": "0fcf8852-7026-4aab-e02c-9d74dbc74105",
        "colab": {
          "base_uri": "https://localhost:8080/",
          "height": 51
        }
      },
      "source": [
        "results = model.evaluate(test_data, test_label_onehots)\n",
        "print(results)"
      ],
      "execution_count": 0,
      "outputs": [
        {
          "output_type": "stream",
          "text": [
            "7567/7567 [==============================] - 2s 329us/sample - loss: 0.4172 - accuracy: 0.8944\n",
            "[0.4172078494026369, 0.89440995]\n"
          ],
          "name": "stdout"
        }
      ]
    },
    {
      "cell_type": "code",
      "metadata": {
        "id": "hVMFeoXMc_gs",
        "colab_type": "code",
        "colab": {}
      },
      "source": [
        "def softmax(w, t = 1.0):\n",
        "  e = np.exp(np.array(w) / t)\n",
        "  dist = e / np.sum(e)\n",
        "  return dist"
      ],
      "execution_count": 0,
      "outputs": []
    },
    {
      "cell_type": "code",
      "metadata": {
        "id": "uxUN3W8-fikO",
        "colab_type": "code",
        "outputId": "93ba0d80-c72c-48e8-98d4-fbaa002acbc1",
        "colab": {
          "base_uri": "https://localhost:8080/",
          "height": 71
        }
      },
      "source": [
        "# learned data\n",
        "data_index   = 23\n",
        "data_words   = \" \".join(train_data_words[data_index])\n",
        "data_indexes = train_data[data_index]\n",
        "y_pred = model.predict([data_indexes])\n",
        "print(data_words)\n",
        "print(encoder.classes_[np.argmax(softmax(y_pred[0]))])"
      ],
      "execution_count": 0,
      "outputs": [
        {
          "output_type": "stream",
          "text": [
            "хаврын чуулган завсарласнаас хойш багагүй хугацаанд амралтын байдалтай уихын үйл ажиллагаа жигдэрч эхлэх гишүүд амралтаа дуусгаж сарын эхлэн ажилдаа орохоор болоод байгаа зарим гишүүдийн хувьд тойрогтоо ажиллаж байгаа уулзалт хурал цуглаан зочид төлөөлөгчид гэх мэтээр өдөр болгон ажилтай байгаа тухайлбал уих дахь анын бүлгийн дарга ажилдаа орж сэлэнгэ аймгийн мандал суманд ажилласан бөгөөд тун удахгүй хөдөө нутгаар ажиллахаар болсон гэнэ тэгвэл уихын дарга өчигдрөөс эхлэн ажилдаа орж байгаа долдугаар сарын ээлжийн амралтаа аваад уихын дарга зэнхболд ажилдаа орсноор уихын үйл ажиллагаа жигдэрч эхлэх шинэчлэлийн засгийн газрын сайдууд болон ерөнхий сайдад амрах хугацаа олдохгүй байгаа бөгөөд засгийн газрын хуралдаанаа булган аймагт хуралдуулж хоёр хөршийн төрийн тэргүүний айлчлалд анхаарлаа хандуулж байгаа наадмаар амрахгүй ажиллана хэмээн мэдэгдэж манын бүлэг одоогоор ажилдаа ороогүй амралтын байдалтай манын ерөнхий нарийн бичгийн дарга жмөнхбат ээлжит бус чуулган хуралдуулах мэдэгдэл гаргаснаар өөрөөр тус намын гишүүд нам гүмхэн\n",
            "улс төр\n"
          ],
          "name": "stdout"
        }
      ]
    },
    {
      "cell_type": "code",
      "metadata": {
        "id": "VaIioR7EPfig",
        "colab_type": "code",
        "outputId": "9b901e83-2d3b-4ca3-f333-cf3ad2eefcdf",
        "colab": {
          "base_uri": "https://localhost:8080/",
          "height": 71
        }
      },
      "source": [
        "# unseen data\n",
        "data_index   = 13\n",
        "data_words   = \" \".join(test_data_words[data_index])\n",
        "data_indexes = test_data[data_index]\n",
        "print(data_words)\n",
        "y_pred = model.predict([data_indexes])\n",
        "print(encoder.classes_[np.argmax(softmax(y_pred[0]))])"
      ],
      "execution_count": 0,
      "outputs": [
        {
          "output_type": "stream",
          "text": [
            "өвөрмонголын газрын ховор элементийн үйлдвэрлэлд хятад квот тогтоосон талаар тус улсын газрын эрдэс баялгийн яам өчигдөр мэдэгдсэн тус яамны орон нутгийн салбараас явуулсан мэдэгдэлд өвөрмонгол дахь төрийн өмчийн төмөр гангийн үйлдвэрлэгч baotou steel group хятад мянган тоннын экспортын квот тогтоосон гэнэ тус групп хятадын газрын ховор элементийн хамгийн том үйлдвэрлэгч baotou steel rareearth hitech эцэг компани дээрх хоёр компани хоёулаа өвөрмонголд үйлдвэрлэл явуулдаг аж тус групп онд тонн бүтээгдэхүүн үйлдвэрлэсэн дангаараа дэлхийн газрын ховор элементийн хувийг нийлүүлдэг хамгийн том үйлдвэрлэгч хятад улс онд гэхэд экспортын бүтээгдэхүүнд тоннын квот тогтоосон хятад оноос хойш газрын ховор элементийн экспортыг хязгаарлаж квот тогтоох болсноос хойш төрлийн түүхий эдийн үнэ дэлхийн зах эрс нэмэгдэж байгаа билээ нэнх\n",
            "урлаг соёл\n"
          ],
          "name": "stdout"
        }
      ]
    }
  ]
}